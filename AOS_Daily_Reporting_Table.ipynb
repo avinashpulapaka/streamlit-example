{
  "cells": [
    {
      "cell_type": "markdown",
      "metadata": {
        "id": "view-in-github",
        "colab_type": "text"
      },
      "source": [
        "<a href=\"https://colab.research.google.com/github/avinashpulapaka/streamlit-example/blob/master/AOS_Daily_Reporting_Table.ipynb\" target=\"_parent\"><img src=\"https://colab.research.google.com/assets/colab-badge.svg\" alt=\"Open In Colab\"/></a>"
      ]
    },
    {
      "cell_type": "code",
      "execution_count": 16,
      "metadata": {
        "id": "k2OlYw2s3FRv",
        "colab": {
          "base_uri": "https://localhost:8080/"
        },
        "outputId": "c283fc6a-63a6-4409-86c7-3e3f54533f84"
      },
      "outputs": [
        {
          "output_type": "stream",
          "name": "stdout",
          "text": [
            "Looking in indexes: https://pypi.org/simple, https://us-python.pkg.dev/colab-wheels/public/simple/\n",
            "Requirement already satisfied: psycopg2 in /usr/local/lib/python3.7/dist-packages (2.7.6.1)\n"
          ]
        }
      ],
      "source": [
        "!pip install psycopg2\n",
        "import pandas as pd\n",
        "import datetime\n",
        "#import pandasql\n",
        "import numpy as np\n",
        "import psycopg2\n",
        "from datetime import timedelta"
      ]
    },
    {
      "cell_type": "code",
      "execution_count": 18,
      "metadata": {
        "id": "-A2virW2gzXB"
      },
      "outputs": [],
      "source": [
        "is_date_range = True # true => date range, false => single day\n",
        "if is_date_range:\n",
        "    start_date = datetime.date(2022,5,26) # ENTER DATE HERE\n",
        "    end_date = datetime.date(2022,6,2) # ENTER DATE HERE\n",
        "    str_start_date = str(start_date)\n",
        "    str_end_date = str(end_date)\n",
        "else: \n",
        "    start_date = datetime.date(2022,3,10) # ENTER DATE HERE\n",
        "    end_date = start_date + datetime.timedelta(days=1) \n",
        "    str_start_date = str(start_date)\n",
        "    str_end_date = str(end_date)"
      ]
    },
    {
      "cell_type": "markdown",
      "metadata": {
        "id": "Ey3zcMMjgzXC"
      },
      "source": [
        "### Function for submitted to publishers,editing,writing,under review,ready for review"
      ]
    },
    {
      "cell_type": "code",
      "execution_count": 19,
      "metadata": {
        "id": "ETVElSy6gzXE"
      },
      "outputs": [],
      "source": [
        "def get_column(code,column_name,str_start_date,str_end_date):\n",
        "    #establishing the connection\n",
        "    conn = psycopg2.connect(\n",
        "       database=\"ee-dashboard\", user='mustafa', password='qNNsfVEX!^AA', host='35.245.120.183', port= '5432'\n",
        "    )\n",
        "\n",
        "    #Creating a cursor object using the cursor() method\n",
        "    cursor = conn.cursor()\n",
        "\n",
        "    # Write query\n",
        "    query = f\"\"\"\n",
        "    select publishers.name as publisher, COUNT(actions_content.articleid) as {column_name}\n",
        "    from actions_content\n",
        "    inner join articles on actions_content.articleid = articles.id and actions_content.actionresult = {code} \n",
        "    and actions_content.createdat between '{str_start_date}' and '{str_end_date}'\n",
        "    right join publishers on publishers.id = articles.publisherid\n",
        "    group by publishers.name\n",
        "    order by publishers.name\n",
        "    \"\"\"\n",
        "\n",
        "    #Executing an MYSQL function using the execute() method\n",
        "    cursor.execute(query)\n",
        "    df = pd.DataFrame(cursor.fetchall(), columns=[desc[0] for desc in cursor.description])\n",
        "\n",
        "    #Closing the connection\n",
        "    conn.close()\n",
        "    return df"
      ]
    },
    {
      "cell_type": "code",
      "execution_count": 20,
      "metadata": {
        "id": "wz7C3vbggzXF"
      },
      "outputs": [],
      "source": [
        "submitted_to_publishers_code = 7\n",
        "editing_code = 3\n",
        "writing_code = 12\n",
        "under_review_code = 13\n",
        "ready_for_review_code = 4\n",
        "\n",
        "submitted_to_publishers_df = get_column(submitted_to_publishers_code,'submitted_to_publishers',str_start_date,str_end_date)\n",
        "\n",
        "editing_df = get_column(editing_code,'editing',str_start_date,str_end_date)\n",
        "editing_df.drop('publisher',axis=1,inplace=True)\n",
        "\n",
        "writing_df = get_column(writing_code,'writing',str_start_date,str_end_date)\n",
        "writing_df.drop('publisher',axis=1,inplace=True)\n",
        "\n",
        "under_review_df = get_column(under_review_code,'under_review',str_start_date,str_end_date)\n",
        "under_review_df.drop('publisher',axis=1,inplace=True)\n",
        "\n",
        "ready_for_review_df = get_column(ready_for_review_code,'ready_for_review',str_start_date,str_end_date)\n",
        "ready_for_review_df.drop('publisher',axis=1,inplace=True)"
      ]
    },
    {
      "cell_type": "markdown",
      "metadata": {
        "id": "goIGE4mrgzXG"
      },
      "source": [
        "### Function for available to write"
      ]
    },
    {
      "cell_type": "code",
      "execution_count": 21,
      "metadata": {
        "id": "6Oy5eGnNgzXH"
      },
      "outputs": [],
      "source": [
        "def get_available_to_write_column(column_name,str_start_date,str_end_date):\n",
        "    #establishing the connection\n",
        "    conn = psycopg2.connect(\n",
        "       database=\"ee-dashboard\", user='mustafa', password='qNNsfVEX!^AA', host='35.245.120.183', port= '5432'\n",
        "    )\n",
        "\n",
        "    #Creating a cursor object using the cursor() method\n",
        "    cursor = conn.cursor()\n",
        "\n",
        "    # Write query\n",
        "    query = f\"\"\"\n",
        "    select publishers.name as publisher, COUNT(actions_content.articleid) as {column_name}\n",
        "    from actions_content\n",
        "    inner join articles on actions_content.articleid = articles.id and articles.contentsource = 2\n",
        "    and (actions_content.actionresult = 1 or actions_content.actionresult = 5)\n",
        "    and actions_content.createdat between '{str_start_date}' and '{str_end_date}'  \n",
        "    right join publishers on publishers.id = articles.publisherid\n",
        "    group by publishers.name\n",
        "    order by publishers.name\n",
        "    \"\"\"\n",
        "\n",
        "    #Executing an MYSQL function using the execute() method\n",
        "    cursor.execute(query)\n",
        "    df = pd.DataFrame(cursor.fetchall(), columns=[desc[0] for desc in cursor.description])\n",
        "\n",
        "    #Closing the connection\n",
        "    conn.close()\n",
        "    return df"
      ]
    },
    {
      "cell_type": "code",
      "execution_count": 22,
      "metadata": {
        "id": "kjRECf1ggzXH"
      },
      "outputs": [],
      "source": [
        "available_to_write_df = get_available_to_write_column('available_to_write',str_start_date,str_end_date)\n",
        "available_to_write_df.drop('publisher',axis=1,inplace=True)"
      ]
    },
    {
      "cell_type": "markdown",
      "metadata": {
        "id": "YYOaYZS1gzXI"
      },
      "source": [
        "### Function for available to edit"
      ]
    },
    {
      "cell_type": "code",
      "execution_count": 23,
      "metadata": {
        "id": "JGhVb5dCgzXJ"
      },
      "outputs": [],
      "source": [
        "### Function for available to edit\n",
        "\n",
        "def get_available_to_edit_column(column_name,str_start_date,str_end_date):\n",
        "    #establishing the connection\n",
        "    conn = psycopg2.connect(\n",
        "       database=\"ee-dashboard\", user='mustafa', password='qNNsfVEX!^AA', host='35.245.120.183', port= '5432'\n",
        "    )\n",
        "\n",
        "    #Creating a cursor object using the cursor() method\n",
        "    cursor = conn.cursor()\n",
        "\n",
        "    # Write query\n",
        "    query = f\"\"\"\n",
        "    select publishers.name as publisher, COUNT(actions_content.articleid) as {column_name}\n",
        "    from actions_content\n",
        "    inner join articles on actions_content.articleid = articles.id and articles.contentsource != 2\n",
        "    and (actions_content.actionresult = 2 or actions_content.actionresult = 5)\n",
        "    and actions_content.createdat between '{str_start_date}' and '{str_end_date}'  \n",
        "    right join publishers on publishers.id = articles.publisherid\n",
        "    group by publishers.name\n",
        "    order by publishers.name\n",
        "    \"\"\"\n",
        "\n",
        "    #Executing an MYSQL function using the execute() method\n",
        "    cursor.execute(query)\n",
        "    df = pd.DataFrame(cursor.fetchall(), columns=[desc[0] for desc in cursor.description])\n",
        "\n",
        "    #Closing the connection\n",
        "    conn.close()\n",
        "    return df"
      ]
    },
    {
      "cell_type": "code",
      "execution_count": 24,
      "metadata": {
        "id": "bDmEu0vogzXJ"
      },
      "outputs": [],
      "source": [
        "available_to_edit_df = get_available_to_edit_column('available_to_edit',str_start_date,str_end_date)\n",
        "available_to_edit_df.drop('publisher',axis=1,inplace=True)"
      ]
    },
    {
      "cell_type": "markdown",
      "metadata": {
        "id": "7oh47gbxgzXK"
      },
      "source": [
        "### Combine tables"
      ]
    },
    {
      "cell_type": "code",
      "execution_count": 25,
      "metadata": {
        "id": "-EEQuMfJgzXK"
      },
      "outputs": [],
      "source": [
        "final_df = pd.concat([submitted_to_publishers_df,editing_df,writing_df,under_review_df,\n",
        "                      ready_for_review_df,available_to_write_df,available_to_edit_df], axis=1)"
      ]
    },
    {
      "cell_type": "code",
      "execution_count": 26,
      "metadata": {
        "colab": {
          "base_uri": "https://localhost:8080/",
          "height": 424
        },
        "id": "mocaClBxgzXK",
        "outputId": "6ccd3fdd-798a-41bd-889e-b608bf451207"
      },
      "outputs": [
        {
          "output_type": "execute_result",
          "data": {
            "text/plain": [
              "           publisher  submitted_to_publishers  editing  writing  under_review  \\\n",
              "0             21 Oak                        0       32       31            72   \n",
              "1          21 Oak CA                        0        1       14             1   \n",
              "2    220 TriathlonUK                        0        0        0             0   \n",
              "3           22 Words                        0       84       69            84   \n",
              "4           Advnture                        0        0        0             0   \n",
              "..               ...                      ...      ...      ...           ...   \n",
              "502       Yahoo Life                       12        0       11            12   \n",
              "503     Yoga Journal                        0        2        0             3   \n",
              "504   Young Choppers                        0        0        0             0   \n",
              "505  YourHomeStyleUK                        0        0        0             0   \n",
              "506          YoursUK                        0        0        0             0   \n",
              "\n",
              "     ready_for_review  available_to_write  available_to_edit  \n",
              "0                  74                   8                 24  \n",
              "1                   1                   0                 14  \n",
              "2                   0                   0                  0  \n",
              "3                  84                   0                 69  \n",
              "4                   0                   0                  0  \n",
              "..                ...                 ...                ...  \n",
              "502                12                  11                  0  \n",
              "503                 2                   1                  0  \n",
              "504                 0                   0                  0  \n",
              "505                 0                   0                  0  \n",
              "506                 0                   0                  0  \n",
              "\n",
              "[507 rows x 8 columns]"
            ],
            "text/html": [
              "\n",
              "  <div id=\"df-7c64048b-0908-4477-a901-258e33e69076\">\n",
              "    <div class=\"colab-df-container\">\n",
              "      <div>\n",
              "<style scoped>\n",
              "    .dataframe tbody tr th:only-of-type {\n",
              "        vertical-align: middle;\n",
              "    }\n",
              "\n",
              "    .dataframe tbody tr th {\n",
              "        vertical-align: top;\n",
              "    }\n",
              "\n",
              "    .dataframe thead th {\n",
              "        text-align: right;\n",
              "    }\n",
              "</style>\n",
              "<table border=\"1\" class=\"dataframe\">\n",
              "  <thead>\n",
              "    <tr style=\"text-align: right;\">\n",
              "      <th></th>\n",
              "      <th>publisher</th>\n",
              "      <th>submitted_to_publishers</th>\n",
              "      <th>editing</th>\n",
              "      <th>writing</th>\n",
              "      <th>under_review</th>\n",
              "      <th>ready_for_review</th>\n",
              "      <th>available_to_write</th>\n",
              "      <th>available_to_edit</th>\n",
              "    </tr>\n",
              "  </thead>\n",
              "  <tbody>\n",
              "    <tr>\n",
              "      <th>0</th>\n",
              "      <td>21 Oak</td>\n",
              "      <td>0</td>\n",
              "      <td>32</td>\n",
              "      <td>31</td>\n",
              "      <td>72</td>\n",
              "      <td>74</td>\n",
              "      <td>8</td>\n",
              "      <td>24</td>\n",
              "    </tr>\n",
              "    <tr>\n",
              "      <th>1</th>\n",
              "      <td>21 Oak CA</td>\n",
              "      <td>0</td>\n",
              "      <td>1</td>\n",
              "      <td>14</td>\n",
              "      <td>1</td>\n",
              "      <td>1</td>\n",
              "      <td>0</td>\n",
              "      <td>14</td>\n",
              "    </tr>\n",
              "    <tr>\n",
              "      <th>2</th>\n",
              "      <td>220 TriathlonUK</td>\n",
              "      <td>0</td>\n",
              "      <td>0</td>\n",
              "      <td>0</td>\n",
              "      <td>0</td>\n",
              "      <td>0</td>\n",
              "      <td>0</td>\n",
              "      <td>0</td>\n",
              "    </tr>\n",
              "    <tr>\n",
              "      <th>3</th>\n",
              "      <td>22 Words</td>\n",
              "      <td>0</td>\n",
              "      <td>84</td>\n",
              "      <td>69</td>\n",
              "      <td>84</td>\n",
              "      <td>84</td>\n",
              "      <td>0</td>\n",
              "      <td>69</td>\n",
              "    </tr>\n",
              "    <tr>\n",
              "      <th>4</th>\n",
              "      <td>Advnture</td>\n",
              "      <td>0</td>\n",
              "      <td>0</td>\n",
              "      <td>0</td>\n",
              "      <td>0</td>\n",
              "      <td>0</td>\n",
              "      <td>0</td>\n",
              "      <td>0</td>\n",
              "    </tr>\n",
              "    <tr>\n",
              "      <th>...</th>\n",
              "      <td>...</td>\n",
              "      <td>...</td>\n",
              "      <td>...</td>\n",
              "      <td>...</td>\n",
              "      <td>...</td>\n",
              "      <td>...</td>\n",
              "      <td>...</td>\n",
              "      <td>...</td>\n",
              "    </tr>\n",
              "    <tr>\n",
              "      <th>502</th>\n",
              "      <td>Yahoo Life</td>\n",
              "      <td>12</td>\n",
              "      <td>0</td>\n",
              "      <td>11</td>\n",
              "      <td>12</td>\n",
              "      <td>12</td>\n",
              "      <td>11</td>\n",
              "      <td>0</td>\n",
              "    </tr>\n",
              "    <tr>\n",
              "      <th>503</th>\n",
              "      <td>Yoga Journal</td>\n",
              "      <td>0</td>\n",
              "      <td>2</td>\n",
              "      <td>0</td>\n",
              "      <td>3</td>\n",
              "      <td>2</td>\n",
              "      <td>1</td>\n",
              "      <td>0</td>\n",
              "    </tr>\n",
              "    <tr>\n",
              "      <th>504</th>\n",
              "      <td>Young Choppers</td>\n",
              "      <td>0</td>\n",
              "      <td>0</td>\n",
              "      <td>0</td>\n",
              "      <td>0</td>\n",
              "      <td>0</td>\n",
              "      <td>0</td>\n",
              "      <td>0</td>\n",
              "    </tr>\n",
              "    <tr>\n",
              "      <th>505</th>\n",
              "      <td>YourHomeStyleUK</td>\n",
              "      <td>0</td>\n",
              "      <td>0</td>\n",
              "      <td>0</td>\n",
              "      <td>0</td>\n",
              "      <td>0</td>\n",
              "      <td>0</td>\n",
              "      <td>0</td>\n",
              "    </tr>\n",
              "    <tr>\n",
              "      <th>506</th>\n",
              "      <td>YoursUK</td>\n",
              "      <td>0</td>\n",
              "      <td>0</td>\n",
              "      <td>0</td>\n",
              "      <td>0</td>\n",
              "      <td>0</td>\n",
              "      <td>0</td>\n",
              "      <td>0</td>\n",
              "    </tr>\n",
              "  </tbody>\n",
              "</table>\n",
              "<p>507 rows × 8 columns</p>\n",
              "</div>\n",
              "      <button class=\"colab-df-convert\" onclick=\"convertToInteractive('df-7c64048b-0908-4477-a901-258e33e69076')\"\n",
              "              title=\"Convert this dataframe to an interactive table.\"\n",
              "              style=\"display:none;\">\n",
              "        \n",
              "  <svg xmlns=\"http://www.w3.org/2000/svg\" height=\"24px\"viewBox=\"0 0 24 24\"\n",
              "       width=\"24px\">\n",
              "    <path d=\"M0 0h24v24H0V0z\" fill=\"none\"/>\n",
              "    <path d=\"M18.56 5.44l.94 2.06.94-2.06 2.06-.94-2.06-.94-.94-2.06-.94 2.06-2.06.94zm-11 1L8.5 8.5l.94-2.06 2.06-.94-2.06-.94L8.5 2.5l-.94 2.06-2.06.94zm10 10l.94 2.06.94-2.06 2.06-.94-2.06-.94-.94-2.06-.94 2.06-2.06.94z\"/><path d=\"M17.41 7.96l-1.37-1.37c-.4-.4-.92-.59-1.43-.59-.52 0-1.04.2-1.43.59L10.3 9.45l-7.72 7.72c-.78.78-.78 2.05 0 2.83L4 21.41c.39.39.9.59 1.41.59.51 0 1.02-.2 1.41-.59l7.78-7.78 2.81-2.81c.8-.78.8-2.07 0-2.86zM5.41 20L4 18.59l7.72-7.72 1.47 1.35L5.41 20z\"/>\n",
              "  </svg>\n",
              "      </button>\n",
              "      \n",
              "  <style>\n",
              "    .colab-df-container {\n",
              "      display:flex;\n",
              "      flex-wrap:wrap;\n",
              "      gap: 12px;\n",
              "    }\n",
              "\n",
              "    .colab-df-convert {\n",
              "      background-color: #E8F0FE;\n",
              "      border: none;\n",
              "      border-radius: 50%;\n",
              "      cursor: pointer;\n",
              "      display: none;\n",
              "      fill: #1967D2;\n",
              "      height: 32px;\n",
              "      padding: 0 0 0 0;\n",
              "      width: 32px;\n",
              "    }\n",
              "\n",
              "    .colab-df-convert:hover {\n",
              "      background-color: #E2EBFA;\n",
              "      box-shadow: 0px 1px 2px rgba(60, 64, 67, 0.3), 0px 1px 3px 1px rgba(60, 64, 67, 0.15);\n",
              "      fill: #174EA6;\n",
              "    }\n",
              "\n",
              "    [theme=dark] .colab-df-convert {\n",
              "      background-color: #3B4455;\n",
              "      fill: #D2E3FC;\n",
              "    }\n",
              "\n",
              "    [theme=dark] .colab-df-convert:hover {\n",
              "      background-color: #434B5C;\n",
              "      box-shadow: 0px 1px 3px 1px rgba(0, 0, 0, 0.15);\n",
              "      filter: drop-shadow(0px 1px 2px rgba(0, 0, 0, 0.3));\n",
              "      fill: #FFFFFF;\n",
              "    }\n",
              "  </style>\n",
              "\n",
              "      <script>\n",
              "        const buttonEl =\n",
              "          document.querySelector('#df-7c64048b-0908-4477-a901-258e33e69076 button.colab-df-convert');\n",
              "        buttonEl.style.display =\n",
              "          google.colab.kernel.accessAllowed ? 'block' : 'none';\n",
              "\n",
              "        async function convertToInteractive(key) {\n",
              "          const element = document.querySelector('#df-7c64048b-0908-4477-a901-258e33e69076');\n",
              "          const dataTable =\n",
              "            await google.colab.kernel.invokeFunction('convertToInteractive',\n",
              "                                                     [key], {});\n",
              "          if (!dataTable) return;\n",
              "\n",
              "          const docLinkHtml = 'Like what you see? Visit the ' +\n",
              "            '<a target=\"_blank\" href=https://colab.research.google.com/notebooks/data_table.ipynb>data table notebook</a>'\n",
              "            + ' to learn more about interactive tables.';\n",
              "          element.innerHTML = '';\n",
              "          dataTable['output_type'] = 'display_data';\n",
              "          await google.colab.output.renderOutput(dataTable, element);\n",
              "          const docLink = document.createElement('div');\n",
              "          docLink.innerHTML = docLinkHtml;\n",
              "          element.appendChild(docLink);\n",
              "        }\n",
              "      </script>\n",
              "    </div>\n",
              "  </div>\n",
              "  "
            ]
          },
          "metadata": {},
          "execution_count": 26
        }
      ],
      "source": [
        "final_df"
      ]
    },
    {
      "cell_type": "code",
      "execution_count": 28,
      "metadata": {
        "id": "lUmrbYVAgzXL"
      },
      "outputs": [],
      "source": [
        "final_df.to_csv('7dayarticlestatus.csv',index=False)"
      ]
    },
    {
      "cell_type": "code",
      "source": [
        ""
      ],
      "metadata": {
        "id": "WpZD4a7Ji4PJ"
      },
      "execution_count": 28,
      "outputs": []
    }
  ],
  "metadata": {
    "colab": {
      "collapsed_sections": [],
      "name": "AOS Daily Reporting Table.ipynb",
      "provenance": [],
      "include_colab_link": true
    },
    "kernelspec": {
      "display_name": "Python 3 (ipykernel)",
      "language": "python",
      "name": "python3"
    },
    "language_info": {
      "codemirror_mode": {
        "name": "ipython",
        "version": 3
      },
      "file_extension": ".py",
      "mimetype": "text/x-python",
      "name": "python",
      "nbconvert_exporter": "python",
      "pygments_lexer": "ipython3",
      "version": "3.9.7"
    }
  },
  "nbformat": 4,
  "nbformat_minor": 0
}